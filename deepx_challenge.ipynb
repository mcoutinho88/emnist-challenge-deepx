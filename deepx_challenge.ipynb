{
 "cells": [
  {
   "cell_type": "markdown",
   "metadata": {
    "colab_type": "text",
    "id": "Pk78dm9jdux5"
   },
   "source": [
    "# **Links**"
   ]
  },
  {
   "cell_type": "code",
   "execution_count": null,
   "metadata": {
    "colab": {},
    "colab_type": "code",
    "id": "DBu_e6rf2zJ8"
   },
   "outputs": [],
   "source": [
    "#################### DATASET #########################\n",
    "#   https://drive.google.com/file/d/1M4nP6gV-2s35_VxcxOrLdfoTMfNIIG47/view?usp=sharing\n",
    "\n",
    "################# SAVED MODEL ########################\n",
    "#   https://drive.google.com/file/d/160k5h8kCoiFismiy0s_SZMYIBuMpv1PS/view?usp=sharing\n"
   ]
  },
  {
   "cell_type": "markdown",
   "metadata": {
    "colab_type": "text",
    "id": "YNVm088L2Ab0"
   },
   "source": [
    "# **Download Dataset from my Google Drive**"
   ]
  },
  {
   "cell_type": "code",
   "execution_count": 1,
   "metadata": {
    "colab": {
     "base_uri": "https://localhost:8080/",
     "height": 35
    },
    "colab_type": "code",
    "id": "lnoKXfp120uP",
    "outputId": "25e4eed5-b9a3-441a-bfc2-ef0cc5249b29"
   },
   "outputs": [
    {
     "name": "stdout",
     "output_type": "stream",
     "text": [
      "Requirement already satisfied: googledrivedownloader in /usr/local/lib/python3.6/dist-packages (0.4)\n"
     ]
    }
   ],
   "source": [
    "!pip install googledrivedownloader\n",
    "from google_drive_downloader import GoogleDriveDownloader as gdd\n",
    "import zipfile\n",
    "\n",
    "\n",
    "gdd.download_file_from_google_drive(file_id='1M4nP6gV-2s35_VxcxOrLdfoTMfNIIG47',  #patches aperio\n",
    "                                        dest_path='./Data_Set.zip',\n",
    "                                        unzip=False)\n",
    "\n",
    "zipfile.ZipFile(file=\"./Data_Set.zip\", mode=\"r\").extractall(\"./\")\n",
    "print('Done extracting dataset')"
   ]
  },
  {
   "cell_type": "markdown",
   "metadata": {
    "colab_type": "text",
    "id": "xS_CYkxW2TRe"
   },
   "source": [
    "# **Loading EMNIST Dataset - Balanced**"
   ]
  },
  {
   "cell_type": "code",
   "execution_count": 4,
   "metadata": {
    "colab": {
     "base_uri": "https://localhost:8080/",
     "height": 90
    },
    "colab_type": "code",
    "id": "lKsajxal3kjk",
    "outputId": "6f538bdd-eadb-4ea2-ae75-1c91d026d13a"
   },
   "outputs": [
    {
     "name": "stderr",
     "output_type": "stream",
     "text": [
      "Using TensorFlow backend.\n"
     ]
    },
    {
     "name": "stdout",
     "output_type": "stream",
     "text": [
      "((112800, 28, 28, 1), (112800, 47))\n",
      "((18800, 28, 28, 1), (18800, 47))\n",
      "(28, 28, 1)\n"
     ]
    }
   ],
   "source": [
    "from scipy import io as spio\n",
    "import tensorflow as tf\n",
    "from keras.utils import to_categorical\n",
    "import numpy as np\n",
    "import matplotlib.pyplot as plt\n",
    "\n",
    "\n",
    "emnist = spio.loadmat(\"matlab/emnist-balanced.mat\");\n",
    "\n",
    "\n",
    "x_train = emnist[\"dataset\"][0][0][0][0][0][0]\n",
    "x_train = x_train.astype(np.float32)\n",
    "y_train = emnist[\"dataset\"][0][0][0][0][0][1]\n",
    "x_test = emnist[\"dataset\"][0][0][1][0][0][0]\n",
    "x_test = x_test.astype(np.float32)\n",
    "y_test = emnist[\"dataset\"][0][0][1][0][0][1]\n",
    "\n",
    "x_train = x_train.reshape(x_train.shape[0], 28, 28, 1, order=\"A\").astype('float32') / 255.\n",
    "x_test = x_test.reshape(x_test.shape[0], 28, 28, 1, order=\"A\").astype('float32') / 255.\n",
    "\n",
    "y_train = to_categorical(y_train.astype('float32'))\n",
    "y_test = to_categorical(y_test.astype('float32'))\n",
    "\n",
    "total_training = x_train.shape[0]\n",
    "total_test = x_test.shape[0]\n",
    "input_shape = x_train.shape[1:]\n",
    "\n",
    "\n",
    "print((x_train.shape, y_train.shape))\n",
    "print((x_test.shape, y_test.shape))\n",
    "print(input_shape)\n",
    "\n"
   ]
  },
  {
   "cell_type": "markdown",
   "metadata": {
    "colab_type": "text",
    "id": "XG_LdR0K2z52"
   },
   "source": [
    "# **Visualizing the data from EMNIST Dataset**"
   ]
  },
  {
   "cell_type": "code",
   "execution_count": 47,
   "metadata": {
    "colab": {
     "base_uri": "https://localhost:8080/",
     "height": 299
    },
    "colab_type": "code",
    "id": "B0I7Ff886eIu",
    "outputId": "1800c541-ce4e-4069-b513-660706726996"
   },
   "outputs": [
    {
     "data": {
      "text/plain": [
       "Text(0.5, 1.0, 'Character: J')"
      ]
     },
     "execution_count": 47,
     "metadata": {
      "tags": []
     },
     "output_type": "execute_result"
    },
    {
     "data": {
      "image/png": "[encoded data removed]",
      "text/plain": [
       "<Figure size 432x288 with 1 Axes>"
      ]
     },
     "metadata": {
      "tags": []
     },
     "output_type": "display_data"
    }
   ],
   "source": [
    "#Visualizing a random sample image from the training set\n",
    "import numpy.random as rdn\n",
    "\n",
    "# All classes indexes\n",
    "class_idx = ['0','1','2','3','4','5','6','7','8','9',\n",
    "             'A','B','C','D','E','F','G','H','I','J','K','L','M','N','O','P','Q','R','S','T','U','V','W','X','Y','Z',\n",
    "             'a','b','d','e','f','g','h','n','q','r','t']\n",
    "\n",
    "sample = int(rdn.random()*total_training)\n",
    "img = x_train[sample]\n",
    "plt.imshow(img[:,:,0], cmap='gray')\n",
    "\n",
    "plt.title(\"Character: \" + str(class_idx[np.argmax(y_train[sample])]))\n",
    "\n"
   ]
  },
  {
   "cell_type": "markdown",
   "metadata": {
    "colab_type": "text",
    "id": "teJGve8n2xme"
   },
   "source": [
    "# **Data Augmentation**"
   ]
  },
  {
   "cell_type": "code",
   "execution_count": null,
   "metadata": {
    "colab": {},
    "colab_type": "code",
    "id": "j9D5_ix29jDf"
   },
   "outputs": [],
   "source": [
    "# Data augmentation\n",
    "from keras.preprocessing.image import ImageDataGenerator\n",
    "\n",
    "BATCH_SIZE = 128\n",
    "\n",
    "datagen = ImageDataGenerator(\n",
    "    rotation_range=10,\n",
    "    width_shift_range=0.12,\n",
    "    height_shift_range=0.12,\n",
    "    zoom_range=0.1)\n",
    "\n",
    "train_generator = datagen.flow(x_train, y_train, batch_size=BATCH_SIZE)\n",
    "test_generator = datagen.flow(x_test, y_test, batch_size=BATCH_SIZE)\n",
    "\n",
    "num_train = len(train_generator)\n",
    "num_test = len(test_generator)\n"
   ]
  },
  {
   "cell_type": "code",
   "execution_count": 42,
   "metadata": {
    "colab": {
     "base_uri": "https://localhost:8080/",
     "height": 283
    },
    "colab_type": "code",
    "id": "gENFtAdxYRMC",
    "outputId": "45b8554c-7cf3-462f-bc4c-f170bb92f43a"
   },
   "outputs": [
    {
     "data": {
      "text/plain": [
       "<matplotlib.image.AxesImage at 0x7ff48ca11ba8>"
      ]
     },
     "execution_count": 42,
     "metadata": {
      "tags": []
     },
     "output_type": "execute_result"
    },
    {
     "data": {
      "image/png": "[encoded data removed]",
      "text/plain": [
       "<Figure size 432x288 with 1 Axes>"
      ]
     },
     "metadata": {
      "tags": []
     },
     "output_type": "display_data"
    }
   ],
   "source": [
    "# load only one image from training set\n",
    "img = x_train[100]\n",
    "\n",
    "# plotting the original image\n",
    "plt.imshow(img[:,:,0], cmap='gray')"
   ]
  },
  {
   "cell_type": "code",
   "execution_count": null,
   "metadata": {
    "colab": {},
    "colab_type": "code",
    "id": "ENMeHjU3Zkbi"
   },
   "outputs": [],
   "source": [
    "# adjusting dimensions to match to the datagen's\n",
    "img = np.expand_dims(img, axis=0)\n",
    "iterator_aug = datagen.flow(img)\n"
   ]
  },
  {
   "cell_type": "code",
   "execution_count": 46,
   "metadata": {
    "colab": {
     "base_uri": "https://localhost:8080/",
     "height": 176
    },
    "colab_type": "code",
    "id": "bZFzxcgUZwVY",
    "outputId": "73a97f63-6c15-468f-fcf2-2e1e3209e8e1"
   },
   "outputs": [
    {
     "data": {
      "image/png": "[encoded data removed]",
      "text/plain": [
       "<Figure size 864x432 with 4 Axes>"
      ]
     },
     "metadata": {
      "tags": []
     },
     "output_type": "display_data"
    }
   ],
   "source": [
    "# showing augmented images\n",
    "f = plt.figure(figsize=(12,6))\n",
    "for i in range(4):\n",
    "    img_aug = next(iterator_aug)[0].astype(np.float32)\n",
    "    sp = f.add_subplot(2, 4, i+1)\n",
    "    sp.axis('Off')\n",
    "    plt.imshow(img_aug[:,:,0], cmap='gray')     "
   ]
  },
  {
   "cell_type": "markdown",
   "metadata": {
    "colab_type": "text",
    "id": "WxxP1QcC3HdX"
   },
   "source": [
    "# **Building my Network**"
   ]
  },
  {
   "cell_type": "markdown",
   "metadata": {
    "colab_type": "text",
    "id": "0aG8CgD-3UO6"
   },
   "source": [
    "This network consists of 3 blocks:\n",
    "\n",
    "\n",
    "\n",
    "1.   First Block consists of \n",
    "  *   3x3 convolution with 64 filters\n",
    "  *   3x3 convolution with 64 filters\n",
    "  *   MaxPooling 2x2\n",
    "\n",
    "\n",
    "2.   Second Block consists of \n",
    "  *   3x3 convolution with 128 filters\n",
    "  *   3x3 convolution with 128 filters\n",
    "  *   MaxPooling 2x2\n",
    "\n",
    "3.   Fully connected layer with 47 output neurons \n",
    "\n",
    "\n",
    "\n",
    "\n"
   ]
  },
  {
   "cell_type": "code",
   "execution_count": null,
   "metadata": {
    "colab": {},
    "colab_type": "code",
    "id": "bWuyuNyP_wJv"
   },
   "outputs": [],
   "source": [
    "# Network\n",
    "from model.ConvNet import ConvNet"
   ]
  },
  {
   "cell_type": "markdown",
   "metadata": {
    "colab_type": "text",
    "id": "VNMYigG64oLm"
   },
   "source": [
    "# **Training**"
   ]
  },
  {
   "cell_type": "markdown",
   "metadata": {
    "colab_type": "text",
    "id": "T5IFiXoIceve"
   },
   "source": [
    "--------------------------------------------------------\n",
    "Only run the section below if you want to load a previously trained model from a file\n",
    "--------------------------------------------------------"
   ]
  },
  {
   "cell_type": "code",
   "execution_count": null,
   "metadata": {
    "colab": {},
    "colab_type": "code",
    "id": "wOXc5Y80cQv9"
   },
   "outputs": [],
   "source": [
    "loaded_model_path = './model/saved_model.h5'\n",
    "loaded_model = ConvNet(input_shape, 47).download_model('160k5h8kCoiFismiy0s_SZMYIBuMpv1PS',\n",
    "                                        loaded_model_path,\n",
    "                                        download_model_from_drive = True)\n",
    "loaded_model.summary()"
   ]
  },
  {
   "cell_type": "markdown",
   "metadata": {
    "colab_type": "text",
    "id": "uClyQRtac0Gw"
   },
   "source": [
    "--------------------------------------------------------\n",
    "Run the section below if you want to train a new model from the beginning\n",
    "--------------------------------------------------------"
   ]
  },
  {
   "cell_type": "code",
   "execution_count": 10,
   "metadata": {
    "colab": {
     "base_uri": "https://localhost:8080/",
     "height": 752
    },
    "colab_type": "code",
    "id": "S_8PQiKUKTYX",
    "outputId": "a823c597-d95b-40a6-c149-08a11ed6253b"
   },
   "outputs": [
    {
     "name": "stdout",
     "output_type": "stream",
     "text": [
      "Model: \"model\"\n",
      "_________________________________________________________________\n",
      "Layer (type)                 Output Shape              Param #   \n",
      "=================================================================\n",
      "input_1 (InputLayer)         [(None, 28, 28, 1)]       0         \n",
      "_________________________________________________________________\n",
      "conv2d (Conv2D)              (None, 28, 28, 64)        640       \n",
      "_________________________________________________________________\n",
      "activation (Activation)      (None, 28, 28, 64)        0         \n",
      "_________________________________________________________________\n",
      "conv2d_1 (Conv2D)            (None, 28, 28, 64)        36928     \n",
      "_________________________________________________________________\n",
      "activation_1 (Activation)    (None, 28, 28, 64)        0         \n",
      "_________________________________________________________________\n",
      "max_pooling2d (MaxPooling2D) (None, 14, 14, 64)        0         \n",
      "_________________________________________________________________\n",
      "dropout (Dropout)            (None, 14, 14, 64)        0         \n",
      "_________________________________________________________________\n",
      "conv2d_2 (Conv2D)            (None, 14, 14, 128)       73856     \n",
      "_________________________________________________________________\n",
      "activation_2 (Activation)    (None, 14, 14, 128)       0         \n",
      "_________________________________________________________________\n",
      "conv2d_3 (Conv2D)            (None, 14, 14, 128)       147584    \n",
      "_________________________________________________________________\n",
      "activation_3 (Activation)    (None, 14, 14, 128)       0         \n",
      "_________________________________________________________________\n",
      "max_pooling2d_1 (MaxPooling2 (None, 7, 7, 128)         0         \n",
      "_________________________________________________________________\n",
      "dropout_1 (Dropout)          (None, 7, 7, 128)         0         \n",
      "_________________________________________________________________\n",
      "flatten (Flatten)            (None, 6272)              0         \n",
      "_________________________________________________________________\n",
      "dense (Dense)                (None, 47)                294831    \n",
      "_________________________________________________________________\n",
      "activation_4 (Activation)    (None, 47)                0         \n",
      "=================================================================\n",
      "Total params: 553,839\n",
      "Trainable params: 553,839\n",
      "Non-trainable params: 0\n",
      "_________________________________________________________________\n"
     ]
    }
   ],
   "source": [
    "model = ConvNet(input_shape, 47).create_model()\n",
    "model.summary()"
   ]
  },
  {
   "cell_type": "code",
   "execution_count": null,
   "metadata": {
    "colab": {},
    "colab_type": "code",
    "id": "hZ1bJus-Wg5B"
   },
   "outputs": [],
   "source": [
    "# Compile model\n",
    "from tensorflow.keras.optimizers import Adam\n",
    "\n",
    "model.compile(optimizer = 'adam',\n",
    "            loss='categorical_crossentropy',\n",
    "            metrics=['accuracy'])"
   ]
  },
  {
   "cell_type": "code",
   "execution_count": 12,
   "metadata": {
    "colab": {
     "base_uri": "https://localhost:8080/",
     "height": 384
    },
    "colab_type": "code",
    "id": "SVC4f_VOWoeu",
    "outputId": "a9d8fc24-7ee6-41fc-d264-c934abfe7d97"
   },
   "outputs": [
    {
     "name": "stdout",
     "output_type": "stream",
     "text": [
      "Epoch 1/10\n",
      "882/882 [==============================] - 1288s 1s/step - loss: 0.6689 - accuracy: 0.7923 - val_loss: 0.4246 - val_accuracy: 0.8602\n",
      "Epoch 2/10\n",
      "882/882 [==============================] - 1263s 1s/step - loss: 0.3786 - accuracy: 0.8690 - val_loss: 0.3669 - val_accuracy: 0.8751\n",
      "Epoch 3/10\n",
      "882/882 [==============================] - 1260s 1s/step - loss: 0.3256 - accuracy: 0.8830 - val_loss: 0.3685 - val_accuracy: 0.8746\n",
      "Epoch 4/10\n",
      "882/882 [==============================] - 1250s 1s/step - loss: 0.2946 - accuracy: 0.8922 - val_loss: 0.3527 - val_accuracy: 0.8804\n",
      "Epoch 5/10\n",
      "882/882 [==============================] - 1226s 1s/step - loss: 0.2716 - accuracy: 0.8982 - val_loss: 0.3328 - val_accuracy: 0.8844\n",
      "Epoch 6/10\n",
      "882/882 [==============================] - 1243s 1s/step - loss: 0.2520 - accuracy: 0.9036 - val_loss: 0.3388 - val_accuracy: 0.8877\n",
      "Epoch 7/10\n",
      "882/882 [==============================] - 1257s 1s/step - loss: 0.2328 - accuracy: 0.9099 - val_loss: 0.3437 - val_accuracy: 0.8827\n",
      "Epoch 8/10\n",
      "882/882 [==============================] - 1243s 1s/step - loss: 0.2195 - accuracy: 0.9130 - val_loss: 0.3481 - val_accuracy: 0.8823\n",
      "Epoch 9/10\n",
      "882/882 [==============================] - 1236s 1s/step - loss: 0.2076 - accuracy: 0.9175 - val_loss: 0.3569 - val_accuracy: 0.8897\n",
      "Epoch 10/10\n",
      "882/882 [==============================] - 1257s 1s/step - loss: 0.1937 - accuracy: 0.9207 - val_loss: 0.3652 - val_accuracy: 0.8871\n"
     ]
    }
   ],
   "source": [
    "from tensorflow.keras.callbacks import CSVLogger\n",
    "\n",
    "\n",
    "epochs = 10\n",
    "batch_size = BATCH_SIZE\n",
    "\n",
    "log_file = 'log_CNNs.csv'\n",
    "csv_logger = CSVLogger(log_file, append=True, separator=';')\n",
    "\n",
    "\n",
    "# Fit model on training data\n",
    "history = model.fit(x_train,\n",
    "              y_train,\n",
    "              batch_size,                 \n",
    "              epochs,\n",
    "              verbose=1,\n",
    "              validation_data=(x_test, y_test),\n",
    "              callbacks=[csv_logger]\n",
    "             )"
   ]
  },
  {
   "cell_type": "markdown",
   "metadata": {
    "colab_type": "text",
    "id": "Gt7SEEPtdlz0"
   },
   "source": [
    "# **Evaluating the model on the test set**"
   ]
  },
  {
   "cell_type": "code",
   "execution_count": 13,
   "metadata": {
    "colab": {
     "base_uri": "https://localhost:8080/",
     "height": 72
    },
    "colab_type": "code",
    "id": "R8lI33PaYJh0",
    "outputId": "5665d453-4497-471b-d593-f7df015f09dd"
   },
   "outputs": [
    {
     "name": "stdout",
     "output_type": "stream",
     "text": [
      "588/588 [==============================] - 53s 90ms/step - loss: 0.3654 - accuracy: 0.8871\n",
      "Test loss  0.3653983473777771\n",
      "Test accuracy  0.8870744705200195\n"
     ]
    }
   ],
   "source": [
    "# Evaluating my model on test data\n",
    "loss, accuracy = model.evaluate(x_test, y_test)\n",
    "print ('Test loss ', loss )\n",
    "print ('Test accuracy ', accuracy )\n",
    "\n"
   ]
  },
  {
   "cell_type": "code",
   "execution_count": 14,
   "metadata": {
    "colab": {
     "base_uri": "https://localhost:8080/",
     "height": 299
    },
    "colab_type": "code",
    "id": "ksaGX9YBXv_r",
    "outputId": "bd8cbb87-ae98-44ab-e4f6-0033cc3d8692"
   },
   "outputs": [
    {
     "data": {
      "text/plain": [
       "Text(0.5, 1.0, 'Character: N')"
      ]
     },
     "execution_count": 14,
     "metadata": {
      "tags": []
     },
     "output_type": "execute_result"
    },
    {
     "data": {
      "image/png": "[encoded data removed]",
      "text/plain": [
       "<Figure size 432x288 with 1 Axes>"
      ]
     },
     "metadata": {
      "tags": []
     },
     "output_type": "display_data"
    }
   ],
   "source": [
    "#Visualizing image and its prediction from a random test sample\n",
    "import numpy.random as rdn\n",
    "\n",
    "\n",
    "sample = int(rdn.random()*total_test)\n",
    "img = x_test[sample]\n",
    "plt.imshow(img[:,:,0], cmap='gray')\n",
    "\n",
    "img = np.expand_dims(img, axis=0)\n",
    "predicted_label = model.predict(img)\n",
    "score = np.argmax(predicted_label)\n",
    "\n",
    "plt.title(\"Character: \" + str(class_idx[score]))\n"
   ]
  },
  {
   "cell_type": "code",
   "execution_count": 15,
   "metadata": {
    "colab": {
     "base_uri": "https://localhost:8080/",
     "height": 283
    },
    "colab_type": "code",
    "id": "HIyH-cgwZP1c",
    "outputId": "e1637f7e-699e-4566-ac22-5295dff3accc"
   },
   "outputs": [
    {
     "data": {
      "text/plain": [
       "<matplotlib.axes._subplots.AxesSubplot at 0x7ff48c479898>"
      ]
     },
     "execution_count": 15,
     "metadata": {
      "tags": []
     },
     "output_type": "execute_result"
    },
    {
     "data": {
      "image/png": "[encoded data removed]",
      "text/plain": [
       "<Figure size 432x288 with 1 Axes>"
      ]
     },
     "metadata": {
      "tags": []
     },
     "output_type": "display_data"
    }
   ],
   "source": [
    "import pandas as pd\n",
    "\n",
    "\n",
    "# Plotting model accuracy and loss of the model\n",
    "pd.DataFrame(history.history)[['accuracy','val_accuracy']].plot()\n"
   ]
  },
  {
   "cell_type": "code",
   "execution_count": 18,
   "metadata": {
    "colab": {
     "base_uri": "https://localhost:8080/",
     "height": 283
    },
    "colab_type": "code",
    "id": "zT0MPMWtWodR",
    "outputId": "132e1c09-6ff9-4b7d-debf-8b41fc33ab83"
   },
   "outputs": [
    {
     "data": {
      "text/plain": [
       "<matplotlib.axes._subplots.AxesSubplot at 0x7ff48c44e940>"
      ]
     },
     "execution_count": 18,
     "metadata": {
      "tags": []
     },
     "output_type": "execute_result"
    },
    {
     "data": {
      "image/png": "[encoded data removed]",
      "text/plain": [
       "<Figure size 432x288 with 1 Axes>"
      ]
     },
     "metadata": {
      "tags": []
     },
     "output_type": "display_data"
    }
   ],
   "source": [
    "pd.DataFrame(history.history)[['loss','val_loss']].plot()\n"
   ]
  },
  {
   "cell_type": "markdown",
   "metadata": {
    "colab_type": "text",
    "id": "EXT7uSS5Xt0p"
   },
   "source": [
    "# **Saving our model**"
   ]
  },
  {
   "cell_type": "code",
   "execution_count": null,
   "metadata": {
    "colab": {},
    "colab_type": "code",
    "id": "giB0rS7JWC-_"
   },
   "outputs": [],
   "source": [
    "!mkdir model\n",
    "model.save( './model/saved_model.h5' )\n"
   ]
  }
 ],
 "metadata": {
  "colab": {
   "collapsed_sections": [],
   "name": "deepx_challenge.ipynb",
   "provenance": []
  },
  "kernelspec": {
   "display_name": "Python 3",
   "language": "python",
   "name": "python3"
  },
  "language_info": {
   "codemirror_mode": {
    "name": "ipython",
    "version": 3
   },
   "file_extension": ".py",
   "mimetype": "text/x-python",
   "name": "python",
   "nbconvert_exporter": "python",
   "pygments_lexer": "ipython3",
   "version": "3.7.3"
  }
 },
 "nbformat": 4,
 "nbformat_minor": 2
}
